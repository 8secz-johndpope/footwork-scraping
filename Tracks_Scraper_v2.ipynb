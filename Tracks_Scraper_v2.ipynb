{
 "cells": [
  {
   "cell_type": "code",
   "execution_count": 4,
   "metadata": {},
   "outputs": [],
   "source": [
    "#! /usr/bin/env python\n",
    "\n",
    "import os\n",
    "import requests\n",
    "import soundcloud\n",
    "import pandas as pd\n",
    "from datetime import datetime\n",
    "from time import sleep\n",
    "import logging\n",
    "import pickle\n",
    "\n",
    "####################################################################\n",
    "\n",
    "# Please be nice with this!\n",
    "CLIENT_ID = '175c043157ffae2c6d5fed16c3d95a4c'\n",
    "CLIENT_SECRET = '99a51990bd81b6a82c901d4cc6828e46'\n",
    "MAGIC_CLIENT_ID = 'b45b1aa10f1ac2941910a7f0d10f8e28'\n",
    "\n",
    "AGGRESSIVE_CLIENT_ID = 'OmTFHKYSMLFqnu2HHucmclAptedxWXkq'\n",
    "APP_VERSION = '1481046241'\n",
    "\n",
    "# page size of 200 seems to work nicely, even though the API\n",
    "# seems to return 180-200 results per request\n",
    "PAGE_SIZE = 200\n",
    "# Sleep time between requests - 4 seconds so as to not overload the server\n",
    "SLEEP_TIME = 4\n",
    "\n",
    "####################################################################\n",
    "\n",
    "# set up logging to file - see previous section for more details\n",
    "logging.basicConfig(level=logging.DEBUG,\n",
    "                    format='%(asctime)s %(name)-12s %(levelname)-8s %(message)s',\n",
    "                    datefmt='%m-%d %H:%M',\n",
    "                    filename='./footwork_tracks.log',\n",
    "                    filemode='w')\n",
    "# define a Handler which writes INFO messages or higher to the sys.stderr\n",
    "console = logging.StreamHandler()\n",
    "console.setLevel(logging.INFO)\n",
    "# set a format which is simpler for console use\n",
    "formatter = logging.Formatter('%(name)-12s: %(levelname)-8s %(message)s')\n",
    "# tell the handler to use this format\n",
    "console.setFormatter(formatter)\n",
    "# add the handler to the root logger\n",
    "logging.getLogger('').addHandler(console)\n",
    "\n",
    "####################################################################\n",
    "\n",
    "def get_client():\n",
    "    \"\"\"\n",
    "    Return a new SoundCloud Client object.\n",
    "    \"\"\"\n",
    "    client = soundcloud.Client(client_id=CLIENT_ID)\n",
    "    return client"
   ]
  },
  {
   "cell_type": "code",
   "execution_count": 5,
   "metadata": {},
   "outputs": [],
   "source": [
    "### Main Script ###\n",
    "client = get_client()"
   ]
  },
  {
   "cell_type": "code",
   "execution_count": null,
   "metadata": {},
   "outputs": [],
   "source": [
    "try:\n",
    "\t# find all tracks with footwork tag\n",
    "\tresponse = client.get('/tracks', q='footwork', limit=PAGE_SIZE,\n",
    "\t                    linked_partitioning=1)\n",
    "\tcounter = 1\n",
    "\t# parse dictionary of response\n",
    "\tresponse_dict = response.fields()\n",
    "\tnext_href = False\n",
    "\tif('next_href' in response_dict):\n",
    "\t\tnext_href = response_dict['next_href']\n",
    "\tif('collection' in response_dict):\n",
    "\t\tresults = response_dict['collection']\n",
    "\t\tresult_keys = results[0].keys()\n",
    "\t\tdata = pd.DataFrame(results)\n",
    "\t\tdata = data.drop(columns=['description'])\n",
    "\t\t# write initial dataframe to file, overwriting any previous file\n",
    "\t\tdata.to_csv('footwork_tracks.csv')\n",
    "\t\tlogging.info('Got ' + str(len(data)) + ' results from first request ')\n",
    "\twhile (next_href):\n",
    "\t\tcounter = counter + 1\n",
    "\t\tlogging.info('Next request to: ' + next_href)\n",
    "\t\tresponse = requests.get(next_href)\n",
    "\t\tpickle.dump( response, open( \"last_API_response.p\", \"wb\" ) )\n",
    "\t\tresponse_dict = response.json()\n",
    "\t\tif('next_href' in response_dict):\n",
    "\t\t\tnext_href = response_dict['next_href']\n",
    "\t\telse:\n",
    "\t\t\tnext_href = False\n",
    "\t\tif('collection' in response_dict):\n",
    "\t\t\tresults = response_dict['collection']\n",
    "\t\t\tresult_keys = results[0].keys()\n",
    "\t\t\tdata = pd.DataFrame(results)\n",
    "\t\t\tdata = data.drop(columns=['description'])\n",
    "\t\t\t# append next set of results to file\n",
    "\t\t\tdata.to_csv('footwork_tracks.csv', mode='a', header=False)\n",
    "\t\t\tlogging.info('Got ' + str(len(data)) + ' results from request ' + str(counter))\n",
    "\t\telse:\n",
    "\t\t\t# Now, we can log to the root logger, or any other logger. First the root...\n",
    "\t\t\tlogging.info('No collection of results returned')\n",
    "\t\t\t#print(\"No collection of results returned\")\n",
    "\t\tlogging.info('Sleeping ' + str(SLEEP_TIME) + ' seconds at ' + str(datetime.now()))\n",
    "\t\t#print('Sleeping ' + SLEEP_TIME + ' seconds at ' + str(datetime.now()))\n",
    "\t\tsleep(SLEEP_TIME)\n",
    "\tlogging.info('All tracks pulled. Finishing at ' + str(datetime.now()))\n",
    "\n",
    "except Exception as e:\n",
    "\tlogging.info('Error from API request: ' + str(e))"
   ]
  },
  {
   "cell_type": "code",
   "execution_count": 62,
   "metadata": {},
   "outputs": [],
   "source": [
    "next_href = 'https://api.soundcloud.com/tracks?linked_partitioning=1&client_id=175c043157ffae2c6d5fed16c3d95a4c&offset=7999&q=footwork&limit=10'\n",
    "response = requests.get(next_href)"
   ]
  },
  {
   "cell_type": "code",
   "execution_count": 63,
   "metadata": {},
   "outputs": [
    {
     "name": "stdout",
     "output_type": "stream",
     "text": [
      "<Response [200]>\n"
     ]
    }
   ],
   "source": [
    "print(response)"
   ]
  },
  {
   "cell_type": "code",
   "execution_count": 64,
   "metadata": {},
   "outputs": [],
   "source": [
    "data = pd.read_csv('footwork_tracks.csv')"
   ]
  },
  {
   "cell_type": "code",
   "execution_count": 88,
   "metadata": {},
   "outputs": [
    {
     "data": {
      "text/plain": [
       "7872    {'id': 944154, 'uri': 'https://api.soundcloud....\n",
       "Name: user, dtype: object"
      ]
     },
     "execution_count": 88,
     "metadata": {},
     "output_type": "execute_result"
    }
   ],
   "source": [
    "data.tail(1)['user']"
   ]
  },
  {
   "cell_type": "code",
   "execution_count": 89,
   "metadata": {},
   "outputs": [
    {
     "data": {
      "text/plain": [
       "7873"
      ]
     },
     "execution_count": 89,
     "metadata": {},
     "output_type": "execute_result"
    }
   ],
   "source": [
    "len(data)"
   ]
  },
  {
   "cell_type": "code",
   "execution_count": null,
   "metadata": {},
   "outputs": [],
   "source": []
  }
 ],
 "metadata": {
  "kernelspec": {
   "display_name": "Python 3",
   "language": "python",
   "name": "python3"
  },
  "language_info": {
   "codemirror_mode": {
    "name": "ipython",
    "version": 3
   },
   "file_extension": ".py",
   "mimetype": "text/x-python",
   "name": "python",
   "nbconvert_exporter": "python",
   "pygments_lexer": "ipython3",
   "version": "3.5.4"
  }
 },
 "nbformat": 4,
 "nbformat_minor": 2
}
