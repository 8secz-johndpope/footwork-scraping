{
 "cells": [
  {
   "cell_type": "code",
   "execution_count": 37,
   "metadata": {},
   "outputs": [],
   "source": [
    "#! /usr/bin/env python\n",
    "\n",
    "import os\n",
    "import requests\n",
    "import soundcloud\n",
    "import pandas as pd\n",
    "from datetime import datetime\n",
    "from time import sleep\n",
    "import logging\n",
    "import csv\n",
    "from pprint import pprint as pp\n",
    "\n",
    "####################################################################\n",
    "\n",
    "# Please be nice with this!\n",
    "CLIENT_ID = '175c043157ffae2c6d5fed16c3d95a4c'\n",
    "CLIENT_SECRET = '99a51990bd81b6a82c901d4cc6828e46'\n",
    "MAGIC_CLIENT_ID = 'b45b1aa10f1ac2941910a7f0d10f8e28'\n",
    "\n",
    "AGGRESSIVE_CLIENT_ID = 'OmTFHKYSMLFqnu2HHucmclAptedxWXkq'\n",
    "APP_VERSION = '1481046241'\n",
    "\n",
    "####################################################################\n",
    "\n",
    "# Sleep time between requests - 2 seconds so as to not overload the server\n",
    "SLEEP_TIME = 2\n",
    "inFileName = './data/soundcloud_footwork_tracks_tag.csv'\n",
    "outFileName = './data/soundcloud_footwork_artists_from_tracks.csv'\n",
    "\n",
    "####################################################################"
   ]
  },
  {
   "cell_type": "code",
   "execution_count": 5,
   "metadata": {},
   "outputs": [],
   "source": [
    "def get_client():\n",
    "    \"\"\"\n",
    "    Return a new SoundCloud Client object.\n",
    "    \"\"\"\n",
    "    client = soundcloud.Client(client_id=CLIENT_ID)\n",
    "    return client"
   ]
  },
  {
   "cell_type": "code",
   "execution_count": 6,
   "metadata": {},
   "outputs": [],
   "source": [
    "# get client\n",
    "client = get_client()"
   ]
  },
  {
   "cell_type": "code",
   "execution_count": 5,
   "metadata": {},
   "outputs": [],
   "source": [
    "# find all sounds of footwork'\n",
    "response = client.get('/users', q='footwork', limit=page_size,\n",
    "                    linked_partitioning=1)\n",
    "#for tracks in tracks.collection:\n",
    "#    print(track.title)"
   ]
  },
  {
   "cell_type": "code",
   "execution_count": 12,
   "metadata": {},
   "outputs": [],
   "source": [
    "response_dict = response.fields()\n",
    "next_href = response_dict['next_href']\n",
    "results = response_dict['collection']\n",
    "result_keys = results[0].keys()\n",
    "data = pd.DataFrame(results)\n",
    "data = data.drop(columns=['description'])"
   ]
  },
  {
   "cell_type": "code",
   "execution_count": 40,
   "metadata": {},
   "outputs": [
    {
     "data": {
      "text/plain": [
       "'PREMIERE: Scott Diaz & Max Footwork - Theres No Time To Waste'"
      ]
     },
     "execution_count": 40,
     "metadata": {},
     "output_type": "execute_result"
    }
   ],
   "source": [
    "data['title'][len(data)-1]"
   ]
  },
  {
   "cell_type": "code",
   "execution_count": 13,
   "metadata": {},
   "outputs": [],
   "source": [
    "data.to_csv('footwork_artists.csv')"
   ]
  },
  {
   "cell_type": "code",
   "execution_count": 42,
   "metadata": {},
   "outputs": [],
   "source": [
    "response_dict = requests.get(next_href).json()\n",
    "next_href = response_dict['next_href']\n",
    "results = response_dict['collection']\n",
    "result_keys = results[0].keys()\n",
    "new_data = pd.DataFrame(results)\n",
    "new_data = new_data.drop(columns=['description'])"
   ]
  },
  {
   "cell_type": "code",
   "execution_count": 45,
   "metadata": {},
   "outputs": [],
   "source": [
    "new_data.to_csv('footwork_tracks.csv', mode='a', header=False)"
   ]
  },
  {
   "cell_type": "code",
   "execution_count": 7,
   "metadata": {},
   "outputs": [],
   "source": [
    "# Generate list of artists to query from list\n",
    "# of tracks tagged with footwork\n",
    "tracks = pd.read_csv(inFileName)\n"
   ]
  },
  {
   "cell_type": "code",
   "execution_count": 14,
   "metadata": {},
   "outputs": [
    {
     "data": {
      "text/plain": [
       "Index(['Unnamed: 0', 'artwork_url', 'attachments_uri', 'bpm', 'comment_count',\n",
       "       'commentable', 'created_at', 'download_count', 'download_url',\n",
       "       'downloadable', 'duration', 'embeddable_by', 'favoritings_count',\n",
       "       'genre', 'id', 'isrc', 'key_signature', 'kind', 'label_id',\n",
       "       'label_name', 'last_modified', 'license', 'likes_count',\n",
       "       'original_content_size', 'original_format', 'permalink',\n",
       "       'permalink_url', 'playback_count', 'purchase_title', 'purchase_url',\n",
       "       'release', 'release_day', 'release_month', 'release_year',\n",
       "       'reposts_count', 'sharing', 'state', 'stream_url', 'streamable',\n",
       "       'tag_list', 'title', 'track_type', 'uri', 'user', 'user_favorite',\n",
       "       'user_id', 'user_playback_count', 'video_url', 'waveform_url'],\n",
       "      dtype='object')"
      ]
     },
     "execution_count": 14,
     "metadata": {},
     "output_type": "execute_result"
    }
   ],
   "source": [
    "tracks.columns"
   ]
  },
  {
   "cell_type": "code",
   "execution_count": 111,
   "metadata": {},
   "outputs": [
    {
     "data": {
      "text/plain": [
       "\"{'kind': 'user', 'uri': 'https://api.soundcloud.com/users/1918080', 'avatar_url': 'https://i1.sndcdn.com/avatars-000192885703-d6h82k-large.jpg', 'permalink_url': 'http://soundcloud.com/knitewatch', 'id': 1918080, 'last_modified': '2016/10/14 14:17:09 +0000', 'permalink': 'knitewatch', 'username': 'Knite Watch'}\""
      ]
     },
     "execution_count": 111,
     "metadata": {},
     "output_type": "execute_result"
    }
   ],
   "source": [
    "tracks['user'][0]"
   ]
  },
  {
   "cell_type": "code",
   "execution_count": 47,
   "metadata": {},
   "outputs": [],
   "source": [
    "response = client.get('/users/1918080')"
   ]
  },
  {
   "cell_type": "code",
   "execution_count": 48,
   "metadata": {},
   "outputs": [],
   "source": [
    "user = response.fields()"
   ]
  },
  {
   "cell_type": "code",
   "execution_count": 49,
   "metadata": {},
   "outputs": [],
   "source": [
    "user['description'] = user['description'].replace('\\n', ' ').encode(\"ascii\", errors=\"ignore\").decode().strip()"
   ]
  },
  {
   "cell_type": "code",
   "execution_count": 50,
   "metadata": {},
   "outputs": [],
   "source": [
    "with open(outFileName, 'w') as outFile:  # Just use 'w' mode in 3.x\n",
    "    outFileWriter = csv.DictWriter(outFile, user.keys())\n",
    "    outFileWriter.writeheader()\n",
    "    outFileWriter.writerow(user)"
   ]
  },
  {
   "cell_type": "code",
   "execution_count": null,
   "metadata": {},
   "outputs": [],
   "source": [
    "# Group by artist to get aggregate stats so we can sort and query in a sensible order\n",
    "# sum is the total number of downlaods per artist across all tracks in list\n",
    "# count is the total number of tracks in the list per artist\n",
    "grouped = tracks[['user_id', 'download_count']].groupby('user_id')\n",
    "aggregated = grouped.agg(['sum', 'count'])\n",
    "# remove the multiindex\n",
    "aggregated.columns = aggregated.columns.droplevel()\n",
    "sorted_artists = aggregated.sort_values(by='sum', ascending=False)\n",
    "sorted_user_id_list = list(sorted_artists.index)"
   ]
  },
  {
   "cell_type": "code",
   "execution_count": 108,
   "metadata": {},
   "outputs": [],
   "source": [
    "first = sorted_user_id_list.pop(0)"
   ]
  },
  {
   "cell_type": "code",
   "execution_count": 110,
   "metadata": {},
   "outputs": [
    {
     "data": {
      "text/plain": [
       "1382"
      ]
     },
     "execution_count": 110,
     "metadata": {},
     "output_type": "execute_result"
    }
   ],
   "source": [
    "first"
   ]
  },
  {
   "cell_type": "code",
   "execution_count": null,
   "metadata": {},
   "outputs": [],
   "source": []
  }
 ],
 "metadata": {
  "kernelspec": {
   "display_name": "Python 3",
   "language": "python",
   "name": "python3"
  },
  "language_info": {
   "codemirror_mode": {
    "name": "ipython",
    "version": 3
   },
   "file_extension": ".py",
   "mimetype": "text/x-python",
   "name": "python",
   "nbconvert_exporter": "python",
   "pygments_lexer": "ipython3",
   "version": "3.5.4"
  }
 },
 "nbformat": 4,
 "nbformat_minor": 2
}
